{
 "cells": [
  {
   "cell_type": "markdown",
   "id": "ea85f9b9",
   "metadata": {},
   "source": [
    "## **Q1.** Given an integer array nums of length n and an integer target, find three integers in nums such that the sum is closest to the target. Return the sum of the three integers. You may assume that each input would have exactly one solution."
   ]
  },
  {
   "cell_type": "code",
   "execution_count": 1,
   "id": "50e5de27",
   "metadata": {},
   "outputs": [
    {
     "name": "stdout",
     "output_type": "stream",
     "text": [
      "2\n"
     ]
    }
   ],
   "source": [
    "def threeSumClosest(nums, target):\n",
    "    nums.sort()\n",
    "    n = len(nums)\n",
    "    closest_sum = float('inf')\n",
    "\n",
    "    for i in range(n - 2):\n",
    "        left = i + 1\n",
    "        right = n - 1\n",
    "\n",
    "        while left < right:\n",
    "            cur_sum = nums[i] + nums[left] + nums[right]\n",
    "            if cur_sum == target:\n",
    "                return cur_sum\n",
    "\n",
    "            if abs(cur_sum - target) < abs(closest_sum - target):\n",
    "                closest_sum = cur_sum\n",
    "\n",
    "            if cur_sum > target:\n",
    "                right -= 1\n",
    "            else:\n",
    "                left += 1\n",
    "\n",
    "    return closest_sum\n",
    "nums = [-1, 2, 1, -4]\n",
    "target = 1\n",
    "result = threeSumClosest(nums, target)\n",
    "print(result)"
   ]
  },
  {
   "cell_type": "markdown",
   "id": "888dd5e3",
   "metadata": {},
   "source": [
    "## **Q2.** Given an array nums of n integers, return an array of all the unique quadruplets [nums[a], nums[b], nums[c], nums[d]] such that:\n",
    " ##          ● 0 <= a, b, c, d < n\n",
    " ##          ● a, b, c, and d are distinct.\n",
    " ##          ● nums[a] + nums[b] + nums[c] + nums[d] == target\n",
    "\n",
    "## You may return the answer in any order."
   ]
  },
  {
   "cell_type": "code",
   "execution_count": 2,
   "id": "16be7993",
   "metadata": {},
   "outputs": [
    {
     "name": "stdout",
     "output_type": "stream",
     "text": [
      "[[-2, -1, 1, 2], [-2, 0, 0, 2], [-1, 0, 0, 1]]\n"
     ]
    }
   ],
   "source": [
    "def fourSum(nums, target):\n",
    "    nums.sort()\n",
    "    n = len(nums)\n",
    "    quadruplets = []\n",
    "\n",
    "    for i in range(n - 3):\n",
    "        if i > 0 and nums[i] == nums[i - 1]:\n",
    "            continue\n",
    "\n",
    "        for j in range(i + 1, n - 2):\n",
    "            if j > i + 1 and nums[j] == nums[j - 1]:\n",
    "                continue\n",
    "\n",
    "            left = j + 1\n",
    "            right = n - 1\n",
    "\n",
    "            while left < right:\n",
    "                cur_sum = nums[i] + nums[j] + nums[left] + nums[right]\n",
    "\n",
    "                if cur_sum == target:\n",
    "                    quadruplets.append([nums[i], nums[j], nums[left], nums[right]])\n",
    "\n",
    "                    while left < right and nums[left] == nums[left + 1]:\n",
    "                        left += 1\n",
    "                    while left < right and nums[right] == nums[right - 1]:\n",
    "                        right -= 1\n",
    "\n",
    "                    left += 1\n",
    "                    right -= 1\n",
    "                elif cur_sum < target:\n",
    "                    left += 1\n",
    "                else:\n",
    "                    right -= 1\n",
    "\n",
    "    return quadruplets\n",
    "nums = [1, 0, -1, 0, -2, 2]\n",
    "target = 0\n",
    "result = fourSum(nums, target)\n",
    "print(result)"
   ]
  },
  {
   "cell_type": "markdown",
   "id": "29d4c821",
   "metadata": {},
   "source": [
    "## **Q3.** A permutation of an array of integers is an arrangement of its members into a sequence or linear order.\n",
    "\n",
    "## For example, for arr = [1,2,3], the following are all the permutations of arr:\n",
    "## [1,2,3], [1,3,2], [2, 1, 3], [2, 3, 1], [3,1,2], [3,2,1].\n",
    "\n",
    "## The next permutation of an array of integers is the next lexicographically greater permutation of its integer. More formally, if all the permutations of the array are sorted in one container according to their lexicographical order, then the next permutation of that array is the permutation that follows it in the sorted container.\n",
    "\n",
    "## If such an arrangement is not possible, the array must be rearranged as the lowest possible order (i.e., sorted in ascending order).\n",
    "\n",
    "## ● For example, the next permutation of arr = [1,2,3] is [1,3,2].\n",
    "## ● Similarly, the next permutation of arr = [2,3,1] is [3,1,2].\n",
    "## ● While the next permutation of arr = [3,2,1] is [1,2,3] because [3,2,1] does not have a lexicographical larger rearrangement.\n",
    "\n",
    "## Given an array of integers nums, find the next permutation of nums. The replacement must be in place and use only constant extra memory."
   ]
  },
  {
   "cell_type": "code",
   "execution_count": 3,
   "id": "58d0ad73",
   "metadata": {},
   "outputs": [
    {
     "name": "stdout",
     "output_type": "stream",
     "text": [
      "[1, 3, 2]\n"
     ]
    }
   ],
   "source": [
    "def nextPermutation(nums):\n",
    "    n = len(nums)\n",
    "    i = n - 1\n",
    "\n",
    "    while i > 0 and nums[i - 1] >= nums[i]:\n",
    "        i -= 1\n",
    "\n",
    "    if i == 0:\n",
    "        nums.reverse()\n",
    "        return nums\n",
    "\n",
    "    j = n - 1\n",
    "    while nums[j] <= nums[i - 1]:\n",
    "        j -= 1\n",
    "\n",
    "    nums[i - 1], nums[j] = nums[j], nums[i - 1]\n",
    "    nums[i:] = reversed(nums[i:])\n",
    "\n",
    "    return nums\n",
    "nums = [1, 2, 3]\n",
    "result = nextPermutation(nums)\n",
    "print(result)"
   ]
  },
  {
   "cell_type": "markdown",
   "id": "40e7d975",
   "metadata": {},
   "source": [
    "## **Q4.** Given a sorted array of distinct integers and a target value, return the index if the target is found. If not, return the index where it would be if it were inserted in order. You must write an algorithm with O(log n) runtime complexity."
   ]
  },
  {
   "cell_type": "code",
   "execution_count": 4,
   "id": "28df3873",
   "metadata": {},
   "outputs": [
    {
     "name": "stdout",
     "output_type": "stream",
     "text": [
      "2\n"
     ]
    }
   ],
   "source": [
    "def searchInsert(nums, target):\n",
    "    left = 0\n",
    "    right = len(nums) - 1\n",
    "\n",
    "    while left <= right:\n",
    "        mid = (left + right) // 2\n",
    "\n",
    "        if nums[mid] == target:\n",
    "            return mid\n",
    "        elif nums[mid] < target:\n",
    "            left = mid + 1\n",
    "        else:\n",
    "            right = mid - 1\n",
    "\n",
    "    return left\n",
    "nums = [1, 3, 5, 6]\n",
    "target = 5\n",
    "result = searchInsert(nums, target)\n",
    "print(result)"
   ]
  },
  {
   "cell_type": "markdown",
   "id": "c3a3ab0d",
   "metadata": {},
   "source": [
    "## **Q5.** You are given a large integer represented as an integer array digits, where each digits[i] is the ith digit of the integer. The digits are ordered from most significant to least significant in left-to-right order. The large integer does not contain any leading 0's.\n",
    "\n",
    "## Increment the large integer by one and return the resulting array of digits."
   ]
  },
  {
   "cell_type": "code",
   "execution_count": 5,
   "id": "ee79f851",
   "metadata": {},
   "outputs": [
    {
     "name": "stdout",
     "output_type": "stream",
     "text": [
      "[1, 2, 4]\n"
     ]
    }
   ],
   "source": [
    "def plusOne(digits):\n",
    "    carry = 1\n",
    "    for i in range(len(digits)-1, -1, -1):\n",
    "        digits[i] += carry\n",
    "        carry = digits[i] // 10\n",
    "        digits[i] %= 10\n",
    "\n",
    "    if carry == 1:\n",
    "        digits.insert(0, 1)\n",
    "\n",
    "    return digits\n",
    "digits = [1, 2, 3]\n",
    "result = plusOne(digits)\n",
    "print(result)"
   ]
  },
  {
   "cell_type": "markdown",
   "id": "1c6a6f46",
   "metadata": {},
   "source": [
    "## **Q6.** Given a non-empty array of integers nums, every element appears twice except for one. Find that single one. You must implement a solution with a linear runtime complexity and use only constant extra space."
   ]
  },
  {
   "cell_type": "code",
   "execution_count": 6,
   "id": "e5fc24ff",
   "metadata": {},
   "outputs": [
    {
     "name": "stdout",
     "output_type": "stream",
     "text": [
      "1\n"
     ]
    }
   ],
   "source": [
    "def singleNumber(nums):\n",
    "    result = 0\n",
    "    for num in nums:\n",
    "        result ^= num\n",
    "    return result\n",
    "nums = [2, 2, 1]\n",
    "result = singleNumber(nums)\n",
    "print(result)"
   ]
  },
  {
   "cell_type": "markdown",
   "id": "ca4cf70a",
   "metadata": {},
   "source": [
    "##  **Q7.** You are given an inclusive range [lower, upper] and a sorted unique integer array nums, where all elements are within the inclusive range.\n",
    "\n",
    "## A number x is considered missing if x is in the range [lower, upper] and x is not in nums.\n",
    "\n",
    "## Return the shortest sorted list of ranges that exactly covers all the missing numbers. That is, no element of nums is included in any of the ranges, and each missing number is covered by one of the ranges."
   ]
  },
  {
   "cell_type": "code",
   "execution_count": 7,
   "id": "0a5f96f1",
   "metadata": {},
   "outputs": [
    {
     "name": "stdout",
     "output_type": "stream",
     "text": [
      "['2', '4->49', '51->74', '76->99']\n"
     ]
    }
   ],
   "source": [
    "def findMissingRanges(nums, lower, upper):\n",
    "    result = []\n",
    "    start = lower\n",
    "\n",
    "    for num in nums:\n",
    "        if num > start:\n",
    "            result.append(getRange(start, num - 1))\n",
    "        start = num + 1\n",
    "\n",
    "    if upper >= start:\n",
    "        result.append(getRange(start, upper))\n",
    "\n",
    "    return result\n",
    "\n",
    "def getRange(start, end):\n",
    "    if start == end:\n",
    "        return str(start)\n",
    "    else:\n",
    "        return str(start) + '->' + str(end)\n",
    "\n",
    "nums = [0, 1, 3, 50, 75]\n",
    "lower = 0\n",
    "upper = 99\n",
    "result = findMissingRanges(nums, lower, upper)\n",
    "print(result)"
   ]
  },
  {
   "cell_type": "markdown",
   "id": "3d806969",
   "metadata": {},
   "source": [
    "##  **Q8.** Given an array of meeting time intervals where intervals[i] = [starti, endi], determine if a person could attend all meetings."
   ]
  },
  {
   "cell_type": "code",
   "execution_count": 8,
   "id": "ffba6979",
   "metadata": {},
   "outputs": [
    {
     "name": "stdout",
     "output_type": "stream",
     "text": [
      "False\n"
     ]
    }
   ],
   "source": [
    "def canAttendMeetings(intervals):\n",
    "    intervals.sort(key=lambda x: x[0])  # Sort intervals based on start time\n",
    "    \n",
    "    for i in range(1, len(intervals)):\n",
    "        if intervals[i][0] < intervals[i-1][1]:\n",
    "            return False\n",
    "    \n",
    "    return True\n",
    "intervals = [[0, 30], [5, 10], [15, 20]]\n",
    "result = canAttendMeetings(intervals)\n",
    "print(result)"
   ]
  }
 ],
 "metadata": {
  "kernelspec": {
   "display_name": "Python 3 (ipykernel)",
   "language": "python",
   "name": "python3"
  },
  "language_info": {
   "codemirror_mode": {
    "name": "ipython",
    "version": 3
   },
   "file_extension": ".py",
   "mimetype": "text/x-python",
   "name": "python",
   "nbconvert_exporter": "python",
   "pygments_lexer": "ipython3",
   "version": "3.9.13"
  }
 },
 "nbformat": 4,
 "nbformat_minor": 5
}
